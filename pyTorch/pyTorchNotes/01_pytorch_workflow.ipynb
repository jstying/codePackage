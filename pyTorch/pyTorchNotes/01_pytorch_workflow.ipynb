{
 "cells": [
  {
   "metadata": {},
   "cell_type": "markdown",
   "source": "# pytorch workflow",
   "id": "3d6f6de090375e59"
  },
  {
   "metadata": {
    "ExecuteTime": {
     "end_time": "2025-05-30T09:02:34.172866Z",
     "start_time": "2025-05-30T09:02:34.167188Z"
    }
   },
   "cell_type": "code",
   "source": [
    "what_were_covering = {1: \"data (prepare and load)\",\n",
    "                      2: \"build model\",\n",
    "                      3: \"fitting the model to data (training)\",\n",
    "                      4: \"making predictions and evaluting a model (inference)推理\",\n",
    "                      5: \"saving and loading a model\",\n",
    "                      6: \"putting it all together \"}\n",
    "what_were_covering"
   ],
   "id": "262b3dabc04fe0d5",
   "outputs": [
    {
     "data": {
      "text/plain": [
       "{1: 'data (prepare and load)',\n",
       " 2: 'build model',\n",
       " 3: 'fitting the model to data (training)',\n",
       " 4: 'making predictions and evaluting a model (inference)推理',\n",
       " 5: 'saving and loading a model',\n",
       " 6: 'putting it all together '}"
      ]
     },
     "execution_count": 1,
     "metadata": {},
     "output_type": "execute_result"
    }
   ],
   "execution_count": 1
  },
  {
   "metadata": {},
   "cell_type": "code",
   "outputs": [],
   "execution_count": null,
   "source": [
    "import torch\n",
    "from torch import nn #nn 包含pytorch神经网络的所有构建模块\n",
    "import matplotlib.pyplot as plt #用于数据可视化"
   ],
   "id": "a53c24149244315"
  }
 ],
 "metadata": {
  "kernelspec": {
   "display_name": "Python 3",
   "language": "python",
   "name": "python3"
  },
  "language_info": {
   "codemirror_mode": {
    "name": "ipython",
    "version": 2
   },
   "file_extension": ".py",
   "mimetype": "text/x-python",
   "name": "python",
   "nbconvert_exporter": "python",
   "pygments_lexer": "ipython2",
   "version": "2.7.6"
  }
 },
 "nbformat": 4,
 "nbformat_minor": 5
}
