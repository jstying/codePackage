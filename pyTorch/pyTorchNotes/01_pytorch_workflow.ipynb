{
 "cells": [
  {
   "metadata": {},
   "cell_type": "markdown",
   "source": [
    "# 01. Pytorch workflow\n",
    "\n",
    "Resource notebook: https://www.learnpytorch.io/01_pytorch_workflow/\n"
   ],
   "id": "3d6f6de090375e59"
  },
  {
   "metadata": {
    "ExecuteTime": {
     "end_time": "2025-05-30T09:02:34.172866Z",
     "start_time": "2025-05-30T09:02:34.167188Z"
    }
   },
   "cell_type": "code",
   "source": [
    "what_were_covering = {1: \"data (prepare and load)\",\n",
    "                      2: \"build model\",\n",
    "                      3: \"fitting the model to data (training)\",\n",
    "                      4: \"making predictions and evaluting a model (inference)推理\",\n",
    "                      5: \"saving and loading a model\",\n",
    "                      6: \"putting it all together \"}\n",
    "what_were_covering"
   ],
   "id": "262b3dabc04fe0d5",
   "outputs": [
    {
     "data": {
      "text/plain": [
       "{1: 'data (prepare and load)',\n",
       " 2: 'build model',\n",
       " 3: 'fitting the model to data (training)',\n",
       " 4: 'making predictions and evaluting a model (inference)推理',\n",
       " 5: 'saving and loading a model',\n",
       " 6: 'putting it all together '}"
      ]
     },
     "execution_count": 1,
     "metadata": {},
     "output_type": "execute_result"
    }
   ],
   "execution_count": 1
  },
  {
   "metadata": {
    "ExecuteTime": {
     "end_time": "2025-05-30T09:08:40.649143Z",
     "start_time": "2025-05-30T09:08:38.800158Z"
    }
   },
   "cell_type": "code",
   "source": [
    "import torch\n",
    "from torch import nn #nn 包含pytorch神经网络的所有构建模块\n",
    "import matplotlib.pyplot as plt #用于数据可视化\n",
    "\n",
    "# check pytorch version\n",
    "torch.__version__"
   ],
   "id": "a53c24149244315",
   "outputs": [
    {
     "data": {
      "text/plain": [
       "'2.7.0+cu128'"
      ]
     },
     "execution_count": 2,
     "metadata": {},
     "output_type": "execute_result"
    }
   ],
   "execution_count": 2
  },
  {
   "metadata": {},
   "cell_type": "markdown",
   "source": [
    "'## 1. Data (preparing and loading)\n",
    "数据可以是任何形式:\n",
    "* excel spreadsheet\n",
    "* images\n",
    "* videos\n",
    "* audio\n",
    "* text\n",
    "\n",
    "机器学习\n",
    "1. 把数据转变成数字化形式\n",
    "2. 制作一个模型去学习数字化形式的规律\n",
    "\n",
    "为了展示，我们一起创建些 *已知的* 数据运用线性回归 linear regression.\n",
    "We'll use a linear regression formula to make a"
   ],
   "id": "d2542f6f9df005a8"
  },
  {
   "metadata": {},
   "cell_type": "code",
   "outputs": [],
   "execution_count": null,
   "source": "",
   "id": "e298c018d181e160"
  }
 ],
 "metadata": {
  "kernelspec": {
   "display_name": "Python 3",
   "language": "python",
   "name": "python3"
  },
  "language_info": {
   "codemirror_mode": {
    "name": "ipython",
    "version": 2
   },
   "file_extension": ".py",
   "mimetype": "text/x-python",
   "name": "python",
   "nbconvert_exporter": "python",
   "pygments_lexer": "ipython2",
   "version": "2.7.6"
  }
 },
 "nbformat": 4,
 "nbformat_minor": 5
}
