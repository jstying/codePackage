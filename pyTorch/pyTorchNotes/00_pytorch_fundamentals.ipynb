{
 "cells": [
  {
   "cell_type": "markdown",
   "metadata": {
    "id": "LWfbtKhcR6s3"
   },
   "source": [
    "# 00. PyTorch Fundamentals\n",
    "\n",
    "Resource notebook: https://www.learnpytorch.io/00_pytorch_fundamentals/\n",
    "\n",
    "\n"
   ]
  },
  {
   "cell_type": "code",
   "metadata": {
    "colab": {
     "base_uri": "https://localhost:8080/"
    },
    "id": "s4ahw0tmT2zy",
    "outputId": "5c1c798d-9e34-41ee-a36a-3f54ad3925b1",
    "ExecuteTime": {
     "end_time": "2025-05-28T08:51:05.265135Z",
     "start_time": "2025-05-28T08:51:05.031578Z"
    }
   },
   "source": [
    "from psutil import win_service_get\n",
    "!nvidia-smi"
   ],
   "outputs": [
    {
     "name": "stdout",
     "output_type": "stream",
     "text": [
      "Wed May 28 16:51:05 2025       \n",
      "+-----------------------------------------------------------------------------------------+\n",
      "| NVIDIA-SMI 572.40                 Driver Version: 572.40         CUDA Version: 12.8     |\n",
      "|-----------------------------------------+------------------------+----------------------+\n",
      "| GPU  Name                  Driver-Model | Bus-Id          Disp.A | Volatile Uncorr. ECC |\n",
      "| Fan  Temp   Perf          Pwr:Usage/Cap |           Memory-Usage | GPU-Util  Compute M. |\n",
      "|                                         |                        |               MIG M. |\n",
      "|=========================================+========================+======================|\n",
      "|   0  NVIDIA GeForce RTX 4070 ...  WDDM  |   00000000:01:00.0 Off |                  N/A |\n",
      "| N/A   45C    P3             16W /   68W |       0MiB /   8188MiB |      0%      Default |\n",
      "|                                         |                        |                  N/A |\n",
      "+-----------------------------------------+------------------------+----------------------+\n",
      "                                                                                         \n",
      "+-----------------------------------------------------------------------------------------+\n",
      "| Processes:                                                                              |\n",
      "|  GPU   GI   CI              PID   Type   Process name                        GPU Memory |\n",
      "|        ID   ID                                                               Usage      |\n",
      "|=========================================================================================|\n",
      "|  No running processes found                                                             |\n",
      "+-----------------------------------------------------------------------------------------+\n"
     ]
    }
   ],
   "execution_count": 2
  },
  {
   "cell_type": "markdown",
   "metadata": {
    "id": "BVK7saKCdSdC"
   },
   "source": [
    "**Google colab** (Jupyter Notebook  .ipynb)\n",
    "\n",
    "右上角connect先, runtime-change runtime type - GPU<br><br>\n",
    "在code cell - python 中:\n",
    "\n",
    "* !nvidia-smi   监控 NVIDIA GPU 的状态和性\n",
    "* Shift+enter 运行代码\n",
    "* Ctrl MM to turn code cell into text cell\n",
    "\n",
    "<br>\n",
    "\n",
    "在text cell - markdown 中：\n",
    "* ##通常用于创建 Markdown 标题(二级标题)\n",
    "* < br>是换行标签\n",
    "* < hr>是水平分割线 <hr>\n",
    "* < p>创建段落，段落间有较大间距< /p>  \n",
    "<p>这是一个段落</p>\n",
    "* 两个`之间 可以作为代码样式\n",
    "* ..."
   ]
  },
  {
   "cell_type": "code",
   "metadata": {
    "colab": {
     "base_uri": "https://localhost:8080/"
    },
    "id": "ozDyxCE_Jtmk",
    "outputId": "f4848fce-1828-44c6-958f-e1c41e62a4dc",
    "ExecuteTime": {
     "end_time": "2025-05-29T07:59:20.505119Z",
     "start_time": "2025-05-29T07:59:17.462949Z"
    }
   },
   "source": [
    "import torch                       #导入pyTorch库\n",
    "import pandas as pd                #导入Pandas库\n",
    "import numpy as np                 #导入Numpy库\n",
    "import matplotlib.pyplot as plt    #导入Matplotlib库\n",
    "\n",
    "print(torch.__version__)           #打印pyTorch的版本号  cu124是CUDA 12.4"
   ],
   "outputs": [
    {
     "name": "stdout",
     "output_type": "stream",
     "text": [
      "2.7.0+cu128\n"
     ]
    }
   ],
   "execution_count": 2
  },
  {
   "cell_type": "markdown",
   "metadata": {
    "id": "WApgH1AIeV8a"
   },
   "source": [
    "## Introduction to Tensors 张量\n",
    "\n",
    "### Creating tensors"
   ]
  },
  {
   "cell_type": "code",
   "metadata": {
    "colab": {
     "base_uri": "https://localhost:8080/"
    },
    "id": "sSN7ZFiDjRPD",
    "outputId": "7244f469-58eb-4197-d01a-a06144fffd47",
    "ExecuteTime": {
     "end_time": "2025-05-28T08:57:29.675066Z",
     "start_time": "2025-05-28T08:57:29.667936Z"
    }
   },
   "source": [
    "# scalar 标量张量\n",
    "scalar = torch.tensor(7)\n",
    "scalar\n"
   ],
   "outputs": [
    {
     "data": {
      "text/plain": [
       "tensor(7)"
      ]
     },
     "execution_count": 8,
     "metadata": {},
     "output_type": "execute_result"
    }
   ],
   "execution_count": 8
  },
  {
   "cell_type": "code",
   "metadata": {
    "colab": {
     "base_uri": "https://localhost:8080/"
    },
    "id": "-Ya0EIN3jkva",
    "outputId": "41e84ceb-565c-4353-dd8b-35fcf3f2cc24",
    "ExecuteTime": {
     "end_time": "2025-05-28T08:50:46.714514Z",
     "start_time": "2025-05-28T08:50:46.710600Z"
    }
   },
   "source": [
    "scalar.ndim #查看维度，标量是0维"
   ],
   "outputs": [
    {
     "data": {
      "text/plain": [
       "0"
      ]
     },
     "execution_count": 10,
     "metadata": {},
     "output_type": "execute_result"
    }
   ],
   "execution_count": 10
  },
  {
   "cell_type": "code",
   "execution_count": null,
   "metadata": {
    "colab": {
     "base_uri": "https://localhost:8080/"
    },
    "id": "GWx6kdtZmSS1",
    "outputId": "e5350eea-fbbd-4fcd-c58f-d7829655c1c1"
   },
   "outputs": [
    {
     "data": {
      "text/plain": [
       "7"
      ]
     },
     "execution_count": 5,
     "metadata": {},
     "output_type": "execute_result"
    }
   ],
   "source": [
    "scalar.item() #将张量转换为 Python int"
   ]
  },
  {
   "cell_type": "code",
   "execution_count": null,
   "metadata": {
    "colab": {
     "base_uri": "https://localhost:8080/"
    },
    "id": "5RX6HG_pnVrl",
    "outputId": "8fbc5ad7-118c-48d5-c0d1-0f734806e348"
   },
   "outputs": [
    {
     "data": {
      "text/plain": [
       "tensor([7, 7])"
      ]
     },
     "execution_count": 6,
     "metadata": {},
     "output_type": "execute_result"
    }
   ],
   "source": [
    "# Vector 向量\n",
    "vector = torch.tensor([7,7])\n",
    "vector"
   ]
  },
  {
   "cell_type": "code",
   "execution_count": null,
   "metadata": {
    "colab": {
     "base_uri": "https://localhost:8080/"
    },
    "id": "K6TzLHX0nhyE",
    "outputId": "8f472256-9dcc-4fd0-be98-16c0efa66f8e"
   },
   "outputs": [
    {
     "data": {
      "text/plain": [
       "1"
      ]
     },
     "execution_count": 7,
     "metadata": {},
     "output_type": "execute_result"
    }
   ],
   "source": [
    "vector.ndim #闭合方括号的数量，1维"
   ]
  },
  {
   "cell_type": "code",
   "execution_count": null,
   "metadata": {
    "colab": {
     "base_uri": "https://localhost:8080/"
    },
    "id": "ieQwuVUJns1-",
    "outputId": "3487a531-2c3e-41e2-b192-b1efa2d68f8d"
   },
   "outputs": [
    {
     "data": {
      "text/plain": [
       "torch.Size([2])"
      ]
     },
     "execution_count": 20,
     "metadata": {},
     "output_type": "execute_result"
    }
   ],
   "source": [
    "vector.shape #形状 数的数量"
   ]
  },
  {
   "cell_type": "code",
   "execution_count": null,
   "metadata": {
    "colab": {
     "base_uri": "https://localhost:8080/"
    },
    "id": "PzFMjW-4n9fa",
    "outputId": "ba9d994e-4991-443e-a9b6-44d08faba3d2"
   },
   "outputs": [
    {
     "data": {
      "text/plain": [
       "tensor([[ 7,  8],\n",
       "        [ 9, 10]])"
      ]
     },
     "execution_count": 9,
     "metadata": {},
     "output_type": "execute_result"
    }
   ],
   "source": [
    "# MATRIX 矩阵\n",
    "MATRIX = torch.tensor([[7,8],\n",
    "                       [9,10]])\n",
    "MATRIX"
   ]
  },
  {
   "cell_type": "code",
   "execution_count": null,
   "metadata": {
    "colab": {
     "base_uri": "https://localhost:8080/"
    },
    "id": "3kMiDLJ0oYSB",
    "outputId": "19aa11e2-a0f4-4519-cead-d6d405a44e5c"
   },
   "outputs": [
    {
     "data": {
      "text/plain": [
       "2"
      ]
     },
     "execution_count": 11,
     "metadata": {},
     "output_type": "execute_result"
    }
   ],
   "source": [
    "MATRIX.ndim #维度，两个],2维"
   ]
  },
  {
   "cell_type": "code",
   "execution_count": null,
   "metadata": {
    "colab": {
     "base_uri": "https://localhost:8080/"
    },
    "id": "NwYcID88oxQH",
    "outputId": "76d49934-f413-4e3e-d672-3311c1522fa1"
   },
   "outputs": [
    {
     "data": {
      "text/plain": [
       "tensor([7, 8])"
      ]
     },
     "execution_count": 12,
     "metadata": {},
     "output_type": "execute_result"
    }
   ],
   "source": [
    "MATRIX[0]"
   ]
  },
  {
   "cell_type": "code",
   "execution_count": null,
   "metadata": {
    "colab": {
     "base_uri": "https://localhost:8080/"
    },
    "id": "n033kH_3o5uk",
    "outputId": "9471662b-fbb2-47f2-a31e-f4bd4185e33c"
   },
   "outputs": [
    {
     "data": {
      "text/plain": [
       "tensor([ 9, 10])"
      ]
     },
     "execution_count": 14,
     "metadata": {},
     "output_type": "execute_result"
    }
   ],
   "source": [
    "MATRIX[1]"
   ]
  },
  {
   "cell_type": "code",
   "execution_count": null,
   "metadata": {
    "colab": {
     "base_uri": "https://localhost:8080/"
    },
    "id": "d0weSVp3pU7n",
    "outputId": "024dbeb1-7662-4a4b-990b-372f5ba69c8b"
   },
   "outputs": [
    {
     "data": {
      "text/plain": [
       "torch.Size([2, 2])"
      ]
     },
     "execution_count": 21,
     "metadata": {},
     "output_type": "execute_result"
    }
   ],
   "source": [
    "MATRIX.shape   #[]的数量 数的数量"
   ]
  },
  {
   "cell_type": "code",
   "execution_count": null,
   "metadata": {
    "colab": {
     "base_uri": "https://localhost:8080/"
    },
    "id": "WRjB2jLupl6a",
    "outputId": "5960eac2-7f5a-45a4-ef99-690bb2bfb89e"
   },
   "outputs": [
    {
     "data": {
      "text/plain": [
       "tensor([[[1, 2, 3],\n",
       "         [3, 6, 9],\n",
       "         [2, 4, 5]]])"
      ]
     },
     "execution_count": 13,
     "metadata": {},
     "output_type": "execute_result"
    }
   ],
   "source": [
    "# TENSOR 张量\n",
    "TENSOR = torch.tensor([[[1,2,3],\n",
    "                        [3,6,9],\n",
    "                        [2,4,5]]])\n",
    "TENSOR"
   ]
  },
  {
   "cell_type": "code",
   "execution_count": null,
   "metadata": {
    "colab": {
     "base_uri": "https://localhost:8080/"
    },
    "id": "l6Pet4OUw81V",
    "outputId": "17eb225a-f762-4371-aa7d-adc5d7803e58"
   },
   "outputs": [
    {
     "data": {
      "text/plain": [
       "tensor([[1, 2, 3],\n",
       "        [3, 6, 9],\n",
       "        [2, 4, 5]])"
      ]
     },
     "execution_count": 14,
     "metadata": {},
     "output_type": "execute_result"
    }
   ],
   "source": [
    "TENSOR[0]"
   ]
  },
  {
   "cell_type": "code",
   "execution_count": null,
   "metadata": {
    "colab": {
     "base_uri": "https://localhost:8080/"
    },
    "id": "mCABa04gxHP9",
    "outputId": "33fe0ea3-63de-495e-8111-e10fb74ba01c"
   },
   "outputs": [
    {
     "data": {
      "text/plain": [
       "tensor([3, 6, 9])"
      ]
     },
     "execution_count": 16,
     "metadata": {},
     "output_type": "execute_result"
    }
   ],
   "source": [
    "TENSOR[0][1]"
   ]
  },
  {
   "cell_type": "code",
   "execution_count": null,
   "metadata": {
    "colab": {
     "base_uri": "https://localhost:8080/"
    },
    "id": "wJn1YT84p9Kv",
    "outputId": "5a2e0c99-b84a-4d9b-8515-0d4d32328919"
   },
   "outputs": [
    {
     "data": {
      "text/plain": [
       "3"
      ]
     },
     "execution_count": 18,
     "metadata": {},
     "output_type": "execute_result"
    }
   ],
   "source": [
    "TENSOR.ndim  #3个],但张量可以是任何维度"
   ]
  },
  {
   "cell_type": "code",
   "execution_count": null,
   "metadata": {
    "colab": {
     "base_uri": "https://localhost:8080/"
    },
    "id": "GRAG42sfqKkm",
    "outputId": "6dd50221-f5bf-4399-a9c8-983e68a4e5aa"
   },
   "outputs": [
    {
     "data": {
      "text/plain": [
       "torch.Size([1, 3, 3])"
      ]
     },
     "execution_count": 22,
     "metadata": {},
     "output_type": "execute_result"
    }
   ],
   "source": [
    "TENSOR.shape  #ndim-1开始   [[]]的数量, []的数量，数字的数量"
   ]
  },
  {
   "cell_type": "code",
   "execution_count": null,
   "metadata": {
    "colab": {
     "base_uri": "https://localhost:8080/"
    },
    "id": "LzeJ87OBqQbH",
    "outputId": "1c7804de-fcc5-4c74-c096-34ba2fcf9189"
   },
   "outputs": [
    {
     "data": {
      "text/plain": [
       "tensor([[[[1, 2, 3, 5],\n",
       "          [3, 6, 9, 4],\n",
       "          [2, 4, 5, 3],\n",
       "          [4, 4, 4, 2],\n",
       "          [1, 1, 1, 2]],\n",
       "\n",
       "         [[1, 2, 3, 5],\n",
       "          [3, 6, 9, 4],\n",
       "          [2, 4, 5, 3],\n",
       "          [4, 4, 4, 2],\n",
       "          [1, 1, 1, 2]]]])"
      ]
     },
     "execution_count": 17,
     "metadata": {},
     "output_type": "execute_result"
    }
   ],
   "source": [
    "ComplexTENSOR = torch.tensor([[[[1,2,3,5],\n",
    "                                [3,6,9,4],\n",
    "                                [2,4,5,3],\n",
    "                                [4,4,4,2],\n",
    "                                [1,1,1,2]],\n",
    "                               [[1,2,3,5],\n",
    "                                [3,6,9,4],\n",
    "                                [2,4,5,3],\n",
    "                                [4,4,4,2],\n",
    "                                [1,1,1,2]]]])\n",
    "ComplexTENSOR"
   ]
  },
  {
   "cell_type": "code",
   "execution_count": null,
   "metadata": {
    "colab": {
     "base_uri": "https://localhost:8080/"
    },
    "id": "xn5gtOoyxOZu",
    "outputId": "269d49b5-7694-4140-e511-cf611a274a92"
   },
   "outputs": [
    {
     "data": {
      "text/plain": [
       "tensor([[[1, 2, 3, 5],\n",
       "         [3, 6, 9, 4],\n",
       "         [2, 4, 5, 3],\n",
       "         [4, 4, 4, 2],\n",
       "         [1, 1, 1, 2]],\n",
       "\n",
       "        [[1, 2, 3, 5],\n",
       "         [3, 6, 9, 4],\n",
       "         [2, 4, 5, 3],\n",
       "         [4, 4, 4, 2],\n",
       "         [1, 1, 1, 2]]])"
      ]
     },
     "execution_count": 18,
     "metadata": {},
     "output_type": "execute_result"
    }
   ],
   "source": [
    "ComplexTENSOR[0]"
   ]
  },
  {
   "cell_type": "code",
   "execution_count": null,
   "metadata": {
    "colab": {
     "base_uri": "https://localhost:8080/"
    },
    "id": "N1ul9uxFt7dB",
    "outputId": "dcffb881-50fd-405b-9714-97635a2991a9"
   },
   "outputs": [
    {
     "data": {
      "text/plain": [
       "4"
      ]
     },
     "execution_count": 10,
     "metadata": {},
     "output_type": "execute_result"
    }
   ],
   "source": [
    "ComplexTENSOR.ndim  #4个]"
   ]
  },
  {
   "cell_type": "code",
   "execution_count": null,
   "metadata": {
    "colab": {
     "base_uri": "https://localhost:8080/"
    },
    "id": "rr3vNkCjuU9B",
    "outputId": "e4a8d632-8050-44aa-ff5a-f6f843f9d362"
   },
   "outputs": [
    {
     "data": {
      "text/plain": [
       "torch.Size([1, 2, 5, 4])"
      ]
     },
     "execution_count": 11,
     "metadata": {},
     "output_type": "execute_result"
    }
   ],
   "source": [
    "ComplexTENSOR.shape #[[[[]]]]数量1 [[[]]]数量1 [[]]数量2 []数量5  数字数量4"
   ]
  },
  {
   "cell_type": "markdown",
   "metadata": {
    "id": "Idpny02Fumrv"
   },
   "source": [
    "scalar, vector 变量名小写 <br>\n",
    "MATRIX, TENSOR 变量名大写"
   ]
  },
  {
   "cell_type": "markdown",
   "metadata": {
    "id": "NhLTnR3zwWuu"
   },
   "source": [
    "### Random tensors 随机张量\n",
    "\n",
    "随机张量很重要，因为许多神经网络的学习方式是他们从充满随机数的张量开始,\n",
    "然后调整这些随机数以更好地表示数据。<br>\n",
    "`Start with random numbers -> look at data -> update random numbers\n",
    "-> look at data -> update random numbers`\n",
    "\n",
    "\n"
   ]
  },
  {
   "cell_type": "code",
   "execution_count": null,
   "metadata": {
    "colab": {
     "base_uri": "https://localhost:8080/"
    },
    "id": "2J9wfafHyBmS",
    "outputId": "df2f54be-739f-4ddd-caf8-49e2e6e808f4"
   },
   "outputs": [
    {
     "data": {
      "text/plain": [
       "tensor([[0.7731, 0.1257, 0.2882, 0.6766],\n",
       "        [0.1866, 0.2867, 0.4451, 0.8294],\n",
       "        [0.6499, 0.0762, 0.6184, 0.9674]])"
      ]
     },
     "execution_count": 20,
     "metadata": {},
     "output_type": "execute_result"
    }
   ],
   "source": [
    "# create a random tensor of size/shape ([3,4])  ndim=1+1  3个[]  4个数\n",
    "random_tensor = torch.rand(3,4) #torch.rand(size=(3,4))同种意思\n",
    "random_tensor"
   ]
  },
  {
   "cell_type": "code",
   "execution_count": null,
   "metadata": {
    "colab": {
     "base_uri": "https://localhost:8080/"
    },
    "id": "9SfYaZ-q0WIX",
    "outputId": "2023897b-c559-4f5a-a33c-ced8afb31aa5"
   },
   "outputs": [
    {
     "data": {
      "text/plain": [
       "2"
      ]
     },
     "execution_count": 21,
     "metadata": {},
     "output_type": "execute_result"
    }
   ],
   "source": [
    "random_tensor.ndim   #]数量"
   ]
  },
  {
   "cell_type": "code",
   "execution_count": null,
   "metadata": {
    "colab": {
     "base_uri": "https://localhost:8080/"
    },
    "id": "E4Qmu4Or0u0e",
    "outputId": "77f198e7-7a94-48b2-eb83-3211a330498d"
   },
   "outputs": [
    {
     "data": {
      "text/plain": [
       "(torch.Size([3, 224, 224]), 3)"
      ]
     },
     "execution_count": 24,
     "metadata": {},
     "output_type": "execute_result"
    }
   ],
   "source": [
    "#create a random tensor with similar shape to an image tensor\n",
    "random_image_size_tensor = torch.rand(size=(3,224,224))  #颜色通道（RGB)，高度，宽度\n",
    "random_image_size_tensor.shape, random_image_size_tensor.ndim  #size是2 1 0， ndim=2+1"
   ]
  },
  {
   "cell_type": "markdown",
   "metadata": {
    "id": "gZesN8SV3qgX"
   },
   "source": [
    "### Zeros and ones"
   ]
  },
  {
   "cell_type": "code",
   "execution_count": null,
   "metadata": {
    "colab": {
     "base_uri": "https://localhost:8080/"
    },
    "id": "GQSG5Eho5lNW",
    "outputId": "64c1a3c8-847e-41cf-b3f0-52f5d80cd3ac"
   },
   "outputs": [
    {
     "data": {
      "text/plain": [
       "tensor([[0., 0., 0., 0.],\n",
       "        [0., 0., 0., 0.],\n",
       "        [0., 0., 0., 0.]])"
      ]
     },
     "execution_count": 26,
     "metadata": {},
     "output_type": "execute_result"
    }
   ],
   "source": [
    "#create a tensor of all zeros\n",
    "zeros = torch.zeros(size=(3,4))\n",
    "zeros"
   ]
  },
  {
   "cell_type": "code",
   "execution_count": null,
   "metadata": {
    "colab": {
     "base_uri": "https://localhost:8080/"
    },
    "id": "LSYUhzMP5ySS",
    "outputId": "3a4595a9-4053-44c3-deff-ae91dd8d6460"
   },
   "outputs": [
    {
     "data": {
      "text/plain": [
       "tensor([[0., 0., 0., 0.],\n",
       "        [0., 0., 0., 0.],\n",
       "        [0., 0., 0., 0.]])"
      ]
     },
     "execution_count": 28,
     "metadata": {},
     "output_type": "execute_result"
    }
   ],
   "source": [
    "zeros * random_tensor  #mask 掩码-用同一个size的tensor 忽略无效数据"
   ]
  },
  {
   "cell_type": "code",
   "execution_count": null,
   "metadata": {
    "colab": {
     "base_uri": "https://localhost:8080/"
    },
    "id": "ni-IUTM-6j1l",
    "outputId": "11615c42-3374-4183-8149-910159159c45"
   },
   "outputs": [
    {
     "data": {
      "text/plain": [
       "tensor([[1., 1., 1., 1.],\n",
       "        [1., 1., 1., 1.],\n",
       "        [1., 1., 1., 1.]])"
      ]
     },
     "execution_count": 29,
     "metadata": {},
     "output_type": "execute_result"
    }
   ],
   "source": [
    "#create a tensor of all ones\n",
    "ones = torch.ones(size=(3,4))\n",
    "ones"
   ]
  },
  {
   "cell_type": "code",
   "execution_count": null,
   "metadata": {
    "colab": {
     "base_uri": "https://localhost:8080/"
    },
    "id": "7i0IJ6UU7NwP",
    "outputId": "cc7f5580-5d7f-4475-e0f0-c79b058cf6a0"
   },
   "outputs": [
    {
     "data": {
      "text/plain": [
       "torch.float32"
      ]
     },
     "execution_count": 30,
     "metadata": {},
     "output_type": "execute_result"
    }
   ],
   "source": [
    "ones.dtype  #default data type 默认的都是torch.float32  浮点数"
   ]
  },
  {
   "cell_type": "markdown",
   "metadata": {
    "id": "Exp4DFZh7Tp7"
   },
   "source": [
    "### create a range of tensors and tensors-like"
   ]
  },
  {
   "cell_type": "code",
   "execution_count": null,
   "metadata": {
    "colab": {
     "base_uri": "https://localhost:8080/"
    },
    "id": "fiVK0uHb9Yc9",
    "outputId": "66df8b74-f47e-40bd-94ec-5e7bf8a63174"
   },
   "outputs": [
    {
     "data": {
      "text/plain": [
       "tensor([ 1,  2,  3,  4,  5,  6,  7,  8,  9, 10])"
      ]
     },
     "execution_count": 36,
     "metadata": {},
     "output_type": "execute_result"
    }
   ],
   "source": [
    "# Use torch.arange()  一个范围的tensor\n",
    "one_to_ten = torch.arange(start=1,end=11,step=1)  #起点(默认0），终于(不包括),步长(默认1)\n",
    "one_to_ten    #start, end, step可省略 1,11,1"
   ]
  },
  {
   "cell_type": "code",
   "execution_count": null,
   "metadata": {
    "colab": {
     "base_uri": "https://localhost:8080/"
    },
    "id": "2ISyjZqwBBzX",
    "outputId": "96a17201-0863-4021-e361-e416470c6509"
   },
   "outputs": [
    {
     "data": {
      "text/plain": [
       "tensor([0, 1, 2, 3, 4, 5, 6, 7, 8, 9])"
      ]
     },
     "execution_count": 45,
     "metadata": {},
     "output_type": "execute_result"
    }
   ],
   "source": [
    "zero_to_nine = torch.arange(10) #0-9\n",
    "zero_to_nine"
   ]
  },
  {
   "cell_type": "code",
   "execution_count": null,
   "metadata": {
    "colab": {
     "base_uri": "https://localhost:8080/"
    },
    "id": "g_P8rbJN9drf",
    "outputId": "ed4722ff-da17-4262-dd30-97b688d467ac"
   },
   "outputs": [
    {
     "data": {
      "text/plain": [
       "tensor([0, 0, 0, 0, 0, 0, 0, 0, 0, 0])"
      ]
     },
     "execution_count": 39,
     "metadata": {},
     "output_type": "execute_result"
    }
   ],
   "source": [
    "# creating tensors-like 相同shape/size的tensor\n",
    "ten_zeros = torch.zeros_like(input=one_to_ten)\n",
    "ten_zeros"
   ]
  },
  {
   "cell_type": "code",
   "execution_count": null,
   "metadata": {
    "colab": {
     "base_uri": "https://localhost:8080/"
    },
    "id": "AvUdLM3A--ac",
    "outputId": "71b21c1f-95d9-4991-a7fc-aa85052c1866"
   },
   "outputs": [
    {
     "data": {
      "text/plain": [
       "tensor([5, 5, 5, 5, 5, 5, 5, 5, 5, 5])"
      ]
     },
     "execution_count": 43,
     "metadata": {},
     "output_type": "execute_result"
    }
   ],
   "source": [
    "ones = torch.ones_like(one_to_ten)         # 全1\n",
    "fives = torch.full_like(one_to_ten, 5)   # 全5\n",
    "fives"
   ]
  },
  {
   "metadata": {},
   "cell_type": "markdown",
   "source": [
    "### Tensor datatypes\n",
    "1. Tensors not right datatypes\n",
    "2. Tensors not right shape\n",
    "3. Tensors not on the right device"
   ]
  },
  {
   "metadata": {
    "ExecuteTime": {
     "end_time": "2025-05-29T08:06:47.562351Z",
     "start_time": "2025-05-29T08:06:47.556566Z"
    }
   },
   "cell_type": "code",
   "source": [
    "# Float 32 tensor\n",
    "float_32_tensor = torch.tensor([3.0,6.0,9.0],\n",
    "                               dtype=None,  #what datatype is the tensor (e.g. float32 单精度 or float16 半精度)\n",
    "                               device=None, #what device is your tensor on: cpu, cuda\n",
    "                               requires_grad=False)  #whether or not to track 梯度\n",
    "float_32_tensor"
   ],
   "outputs": [
    {
     "data": {
      "text/plain": [
       "tensor([3., 6., 9.])"
      ]
     },
     "execution_count": 7,
     "metadata": {},
     "output_type": "execute_result"
    }
   ],
   "execution_count": 7
  },
  {
   "metadata": {
    "SqlCellData": {
     "variableName$1": "df_sql1"
    }
   },
   "cell_type": "code",
   "outputs": [],
   "execution_count": null,
   "source": "%%sql\n"
  },
  {
   "metadata": {
    "ExecuteTime": {
     "end_time": "2025-05-29T08:00:37.652781Z",
     "start_time": "2025-05-29T08:00:37.648933Z"
    }
   },
   "cell_type": "code",
   "source": "float_32_tensor.dtype  #即使明说了是None,也是float32 默认",
   "outputs": [
    {
     "data": {
      "text/plain": [
       "torch.float32"
      ]
     },
     "execution_count": 6,
     "metadata": {},
     "output_type": "execute_result"
    }
   ],
   "execution_count": 6
  },
  {
   "metadata": {
    "ExecuteTime": {
     "end_time": "2025-05-29T08:07:14.281354Z",
     "start_time": "2025-05-29T08:07:14.274948Z"
    }
   },
   "cell_type": "code",
   "source": [
    "float_16_tensor = float_32_tensor.type(torch.float16) #16 位浮点数\n",
    "float_16_tensor"
   ],
   "outputs": [
    {
     "data": {
      "text/plain": [
       "tensor([3., 6., 9.], dtype=torch.float16)"
      ]
     },
     "execution_count": 8,
     "metadata": {},
     "output_type": "execute_result"
    }
   ],
   "execution_count": 8
  },
  {
   "metadata": {
    "ExecuteTime": {
     "end_time": "2025-05-29T08:09:56.531133Z",
     "start_time": "2025-05-29T08:09:56.526197Z"
    }
   },
   "cell_type": "code",
   "source": "float_32_tensor * float_16_tensor",
   "outputs": [
    {
     "data": {
      "text/plain": [
       "tensor([ 9., 36., 81.])"
      ]
     },
     "execution_count": 9,
     "metadata": {},
     "output_type": "execute_result"
    }
   ],
   "execution_count": 9
  },
  {
   "metadata": {
    "ExecuteTime": {
     "end_time": "2025-05-29T08:11:30.690431Z",
     "start_time": "2025-05-29T08:11:30.685235Z"
    }
   },
   "cell_type": "code",
   "source": [
    "int_32_tensor = torch.tensor([3,6,9],dtype=torch.int32)\n",
    "int_32_tensor"
   ],
   "outputs": [
    {
     "data": {
      "text/plain": [
       "tensor([3, 6, 9], dtype=torch.int32)"
      ]
     },
     "execution_count": 10,
     "metadata": {},
     "output_type": "execute_result"
    }
   ],
   "execution_count": 10
  },
  {
   "metadata": {
    "ExecuteTime": {
     "end_time": "2025-05-29T08:11:50.598614Z",
     "start_time": "2025-05-29T08:11:50.593906Z"
    }
   },
   "cell_type": "code",
   "source": "float_32_tensor * int_32_tensor    #貌似不会出错，但以后可能会有错",
   "outputs": [
    {
     "data": {
      "text/plain": [
       "tensor([ 9., 36., 81.])"
      ]
     },
     "execution_count": 11,
     "metadata": {},
     "output_type": "execute_result"
    }
   ],
   "execution_count": 11
  },
  {
   "metadata": {},
   "cell_type": "markdown",
   "source": [
    "### Tensor datatypes\n",
    "1. Tensors not right datatypes  - `tensor.dtype`\n",
    "2. Tensors not right shape  - `tensor.shape`\n",
    "3. Tensors not on the right device - `tensor.device`"
   ]
  },
  {
   "metadata": {
    "ExecuteTime": {
     "end_time": "2025-05-29T08:16:34.138188Z",
     "start_time": "2025-05-29T08:16:34.133583Z"
    }
   },
   "cell_type": "code",
   "source": [
    "# create a tensor\n",
    "some_tensor = torch.rand((3,4))\n",
    "some_tensor"
   ],
   "outputs": [
    {
     "data": {
      "text/plain": [
       "tensor([[0.4050, 0.3458, 0.8678, 0.6637],\n",
       "        [0.0740, 0.9203, 0.2590, 0.6012],\n",
       "        [0.3108, 0.3027, 0.1994, 0.8277]])"
      ]
     },
     "execution_count": 16,
     "metadata": {},
     "output_type": "execute_result"
    }
   ],
   "execution_count": 16
  },
  {
   "metadata": {
    "ExecuteTime": {
     "end_time": "2025-05-29T08:19:00.566143Z",
     "start_time": "2025-05-29T08:19:00.562257Z"
    }
   },
   "cell_type": "code",
   "source": [
    "# Find out details about some tensor\n",
    "print(some_tensor)\n",
    "print(f\"Datatype of tensor: {some_tensor.dtype}\")\n",
    "print(f\"Shape of tensor: {some_tensor.shape}\")\n",
    "print(f\"Device of tensor: {some_tensor.device}\") #默认是cpu"
   ],
   "outputs": [
    {
     "name": "stdout",
     "output_type": "stream",
     "text": [
      "tensor([[0.4050, 0.3458, 0.8678, 0.6637],\n",
      "        [0.0740, 0.9203, 0.2590, 0.6012],\n",
      "        [0.3108, 0.3027, 0.1994, 0.8277]])\n",
      "Datatype of tensor: torch.float32\n",
      "Shape of tensor: torch.Size([3, 4])\n",
      "Device of tensor: cpu\n"
     ]
    }
   ],
   "execution_count": 17
  },
  {
   "metadata": {},
   "cell_type": "markdown",
   "source": [
    "### Manipulating Tensors (tensor operations)\n",
    "\n",
    "Tensor operations include:\n",
    "* addition\n",
    "* subtraction\n",
    "* multiplication (element-wise)\n",
    "* division\n",
    "* matrix multiplication\n",
    "j"
   ]
  },
  {
   "metadata": {
    "ExecuteTime": {
     "end_time": "2025-05-29T08:32:11.819031Z",
     "start_time": "2025-05-29T08:32:11.812367Z"
    }
   },
   "cell_type": "code",
   "source": [
    "# create a tensor\n",
    "tensor = torch.tensor([1,2,3])\n",
    "tensor + 10"
   ],
   "outputs": [
    {
     "data": {
      "text/plain": [
       "tensor([11, 12, 13])"
      ]
     },
     "execution_count": 19,
     "metadata": {},
     "output_type": "execute_result"
    }
   ],
   "execution_count": 19
  },
  {
   "metadata": {
    "ExecuteTime": {
     "end_time": "2025-05-29T08:34:17.303781Z",
     "start_time": "2025-05-29T08:34:17.299641Z"
    }
   },
   "cell_type": "code",
   "source": "tensor*10",
   "outputs": [
    {
     "data": {
      "text/plain": [
       "tensor([10., 20., 30.])"
      ]
     },
     "execution_count": 40,
     "metadata": {},
     "output_type": "execute_result"
    }
   ],
   "execution_count": 40
  },
  {
   "metadata": {
    "ExecuteTime": {
     "end_time": "2025-05-29T08:34:23.631529Z",
     "start_time": "2025-05-29T08:34:23.627387Z"
    }
   },
   "cell_type": "code",
   "source": "tensor",
   "outputs": [
    {
     "data": {
      "text/plain": [
       "tensor([1., 2., 3.])"
      ]
     },
     "execution_count": 41,
     "metadata": {},
     "output_type": "execute_result"
    }
   ],
   "execution_count": 41
  },
  {
   "metadata": {
    "ExecuteTime": {
     "end_time": "2025-05-29T08:34:42.775937Z",
     "start_time": "2025-05-29T08:34:42.770787Z"
    }
   },
   "cell_type": "code",
   "source": [
    "#减10\n",
    "tensor - 10"
   ],
   "outputs": [
    {
     "data": {
      "text/plain": [
       "tensor([-9., -8., -7.])"
      ]
     },
     "execution_count": 42,
     "metadata": {},
     "output_type": "execute_result"
    }
   ],
   "execution_count": 42
  },
  {
   "metadata": {
    "ExecuteTime": {
     "end_time": "2025-05-29T08:35:22.930439Z",
     "start_time": "2025-05-29T08:35:22.925906Z"
    }
   },
   "cell_type": "code",
   "source": [
    "# try out pytorch in-built functions\n",
    "torch.mul(tensor,10)"
   ],
   "outputs": [
    {
     "data": {
      "text/plain": [
       "tensor([10., 20., 30.])"
      ]
     },
     "execution_count": 43,
     "metadata": {},
     "output_type": "execute_result"
    }
   ],
   "execution_count": 43
  },
  {
   "metadata": {
    "ExecuteTime": {
     "end_time": "2025-05-29T08:35:32.078682Z",
     "start_time": "2025-05-29T08:35:32.073992Z"
    }
   },
   "cell_type": "code",
   "source": "torch.add(tensor,10)",
   "outputs": [
    {
     "data": {
      "text/plain": [
       "tensor([11., 12., 13.])"
      ]
     },
     "execution_count": 44,
     "metadata": {},
     "output_type": "execute_result"
    }
   ],
   "execution_count": 44
  },
  {
   "metadata": {},
   "cell_type": "markdown",
   "source": [
    "### Matrix multiplication\n",
    "\n",
    "2种方式在神经网络和深度学习：\n",
    "1. element-wise\n",
    "2. matrix  (dot product)\n",
    "\n",
    "There are two rules that performing matrix multiplcation needs to satisfy:\n",
    "1. The **inner dimensions** must match:          @也是matrixmult\n",
    "* `(3,2) @ (3,2)` wont work\n",
    "* `(2,3) @ (3,2)` will work\n",
    "* `(3,2) @ (2,3)` will work\n",
    "\n",
    "2.The resulting matrix has the shape of the **outer dimensions**\n",
    "* `(2,3) @ (3,2)` -> `(2,2)`\n",
    "* `(3,2) @ (2,3)` -> `(3,3)`"
   ]
  },
  {
   "metadata": {
    "ExecuteTime": {
     "end_time": "2025-05-29T08:51:31.554964Z",
     "start_time": "2025-05-29T08:51:31.547437Z"
    }
   },
   "cell_type": "code",
   "source": "torch.matmul(torch.rand(3,2),torch.rand(2,3))",
   "outputs": [
    {
     "data": {
      "text/plain": [
       "tensor([[0.5811, 0.7590, 0.8167],\n",
       "        [0.1429, 0.0947, 0.2366],\n",
       "        [0.6055, 0.7699, 0.8591]])"
      ]
     },
     "execution_count": 51,
     "metadata": {},
     "output_type": "execute_result"
    }
   ],
   "execution_count": 51
  },
  {
   "metadata": {
    "ExecuteTime": {
     "end_time": "2025-05-29T08:51:47.934770Z",
     "start_time": "2025-05-29T08:51:47.929340Z"
    }
   },
   "cell_type": "code",
   "source": "torch.matmul(torch.rand(2,3),torch.rand(3,2))",
   "outputs": [
    {
     "data": {
      "text/plain": [
       "tensor([[0.6241, 1.3365],\n",
       "        [0.4189, 0.7340]])"
      ]
     },
     "execution_count": 52,
     "metadata": {},
     "output_type": "execute_result"
    }
   ],
   "execution_count": 52
  },
  {
   "metadata": {
    "ExecuteTime": {
     "end_time": "2025-05-29T08:39:10.325867Z",
     "start_time": "2025-05-29T08:39:10.321503Z"
    }
   },
   "cell_type": "code",
   "source": [
    "# Element-wise\n",
    "print(tensor, \"*\", tensor)\n",
    "print(f\"Equals: {tensor * tensor}\")"
   ],
   "outputs": [
    {
     "name": "stdout",
     "output_type": "stream",
     "text": [
      "tensor([1., 2., 3.]) * tensor([1., 2., 3.])\n",
      "Equals: tensor([1., 4., 9.])\n"
     ]
    }
   ],
   "execution_count": 46
  },
  {
   "metadata": {
    "ExecuteTime": {
     "end_time": "2025-05-29T08:39:43.755434Z",
     "start_time": "2025-05-29T08:39:43.744754Z"
    }
   },
   "cell_type": "code",
   "source": [
    "# matrix multiplication   #1*1+2*2+3*3=14\n",
    "torch.matmul(tensor,tensor)"
   ],
   "outputs": [
    {
     "data": {
      "text/plain": [
       "tensor(14.)"
      ]
     },
     "execution_count": 47,
     "metadata": {},
     "output_type": "execute_result"
    }
   ],
   "execution_count": 47
  },
  {
   "metadata": {
    "ExecuteTime": {
     "end_time": "2025-05-29T08:41:46.784779Z",
     "start_time": "2025-05-29T08:41:46.779915Z"
    }
   },
   "cell_type": "code",
   "source": [
    "%%time   #测量整个代码单元格\n",
    "value = 0\n",
    "for i in range(len(tensor)):\n",
    "    value += tensor[i] * tensor[i]\n",
    "print(value)"
   ],
   "outputs": [
    {
     "name": "stdout",
     "output_type": "stream",
     "text": [
      "tensor(14.)\n",
      "CPU times: total: 0 ns\n",
      "Wall time: 1.51 ms\n"
     ]
    }
   ],
   "execution_count": 48
  },
  {
   "metadata": {
    "ExecuteTime": {
     "end_time": "2025-05-29T08:42:56.299168Z",
     "start_time": "2025-05-29T08:42:56.294220Z"
    }
   },
   "cell_type": "code",
   "source": [
    "%%time\n",
    "torch.matmul(tensor,tensor)  #完全更快"
   ],
   "outputs": [
    {
     "name": "stdout",
     "output_type": "stream",
     "text": [
      "CPU times: total: 0 ns\n",
      "Wall time: 185 μs\n"
     ]
    },
    {
     "data": {
      "text/plain": [
       "tensor(14.)"
      ]
     },
     "execution_count": 49,
     "metadata": {},
     "output_type": "execute_result"
    }
   ],
   "execution_count": 49
  },
  {
   "metadata": {},
   "cell_type": "markdown",
   "source": "### one of the most common errors in deep learning : shape errors"
  },
  {
   "metadata": {
    "ExecuteTime": {
     "end_time": "2025-05-29T08:55:05.645722Z",
     "start_time": "2025-05-29T08:55:05.642319Z"
    }
   },
   "cell_type": "code",
   "source": [
    "# shapes for matrix multiplication\n",
    "tensor_A = torch.tensor([[1,2],\n",
    "                        [3,4],\n",
    "                        [5,6]])\n",
    "\n",
    "tensor_B = torch.tensor([[7,10],\n",
    "                        [8,11],\n",
    "                        [9,12]])\n",
    "\n",
    "# torch.mm(tensor_A, tensor_B)   #mm也是matmul\n",
    "\n",
    "#但是这里无法矩阵乘法， 3by2 x 3by2"
   ],
   "outputs": [],
   "execution_count": 53
  },
  {
   "metadata": {},
   "cell_type": "markdown",
   "source": "使用transpose 转置交换 来改变一个张量的dimension"
  },
  {
   "metadata": {},
   "cell_type": "code",
   "outputs": [],
   "execution_count": null,
   "source": "tensor_B.T, tensor"
  }
 ],
 "metadata": {
  "accelerator": "GPU",
  "colab": {
   "gpuType": "T4",
   "provenance": []
  },
  "kernelspec": {
   "display_name": "Python 3",
   "name": "python3"
  },
  "language_info": {
   "name": "python"
  }
 },
 "nbformat": 4,
 "nbformat_minor": 0
}
